{
 "cells": [
  {
   "cell_type": "markdown",
   "id": "99de8b12-b54a-49f4-bb2d-d085a8669117",
   "metadata": {},
   "source": [
    "## RQ2"
   ]
  },
  {
   "cell_type": "code",
   "execution_count": 1,
   "id": "5fc274d6-8870-4771-a558-e6f41c91ba44",
   "metadata": {},
   "outputs": [],
   "source": [
    "import pandas as pd\n",
    "from pandas import json_normalize\n",
    "import matplotlib.pyplot as plt"
   ]
  },
  {
   "cell_type": "markdown",
   "id": "ea59d4a1-256d-44cd-9864-e6d84b6dd5ec",
   "metadata": {},
   "source": [
    "## Data Loading"
   ]
  },
  {
   "cell_type": "code",
   "execution_count": 2,
   "id": "24632be8-24cb-4807-bb49-505c48be6e51",
   "metadata": {},
   "outputs": [],
   "source": [
    "pr1 = pd.read_json(\"20230803_093947_pr_sharings.json\")\n",
    "pr2 = pd.read_json(\"20230810_123110_pr_sharings.json\")\n",
    "pr3 = pd.read_json(\"20230817_125147_pr_sharings.json\")\n",
    "pr4 = pd.read_json(\"20230824_100450_pr_sharings.json\")\n",
    "pr5 = pd.read_json(\"20230831_060603_pr_sharings.json\")\n",
    "\n",
    "commit1 = pd.read_json(\"20230803_095317_commit_sharings.json\")\n",
    "commit2 = pd.read_json(\"20230810_124807_commit_sharings.json\")\n",
    "commit3 = pd.read_json(\"20230817_131244_commit_sharings.json\")\n",
    "commit4 = pd.read_json(\"20230824_102435_commit_sharings.json\")\n",
    "commit5 = pd.read_json(\"20230831_063412_commit_sharings.json\")"
   ]
  },
  {
   "cell_type": "markdown",
   "id": "8b8fa3e1-43fd-42ee-aaa1-a292e2b7f0b8",
   "metadata": {},
   "source": [
    "## Data Processing"
   ]
  },
  {
   "cell_type": "code",
   "execution_count": 3,
   "id": "242679cb-6160-4db5-a6aa-61ac652cf4ce",
   "metadata": {},
   "outputs": [],
   "source": [
    "pr1_n = pd.json_normalize(pr1['Sources'])\n",
    "pr2_n = pd.json_normalize(pr2['Sources'])\n",
    "pr3_n = pd.json_normalize(pr3['Sources'])\n",
    "pr4_n = pd.json_normalize(pr4['Sources'])\n",
    "pr5_n = pd.json_normalize(pr5['Sources'])\n",
    "\n",
    "commit1_n = pd.json_normalize(commit1['Sources'])\n",
    "commit2_n = pd.json_normalize(commit2['Sources'])\n",
    "commit3_n = pd.json_normalize(commit3['Sources'])\n",
    "commit4_n = pd.json_normalize(commit4['Sources'])\n",
    "commit5_n = pd.json_normalize(commit5['Sources'])"
   ]
  },
  {
   "cell_type": "code",
   "execution_count": 4,
   "id": "634f3ab7-b7b4-487c-bf3b-42aabb277316",
   "metadata": {},
   "outputs": [],
   "source": [
    "pr_august = pd.concat([pr1_n, pr2_n, pr3_n, pr4_n, pr5_n])\n",
    "commit_august = pd.concat([commit1_n, commit2_n, commit3_n, commit4_n, commit5_n])\n",
    "\n",
    "pr_august_clean = pr_august.rename(columns={'CommitSha': 'Sha'})\n",
    "commit_august_clean = commit_august"
   ]
  },
  {
   "cell_type": "code",
   "execution_count": 5,
   "id": "e07c0bf4-0e17-4e5a-a195-43e9d5b80ddf",
   "metadata": {},
   "outputs": [
    {
     "data": {
      "text/html": [
       "<div>\n",
       "<style scoped>\n",
       "    .dataframe tbody tr th:only-of-type {\n",
       "        vertical-align: middle;\n",
       "    }\n",
       "\n",
       "    .dataframe tbody tr th {\n",
       "        vertical-align: top;\n",
       "    }\n",
       "\n",
       "    .dataframe thead th {\n",
       "        text-align: right;\n",
       "    }\n",
       "</style>\n",
       "<table border=\"1\" class=\"dataframe\">\n",
       "  <thead>\n",
       "    <tr style=\"text-align: right;\">\n",
       "      <th></th>\n",
       "      <th>Type</th>\n",
       "      <th>URL</th>\n",
       "      <th>Author</th>\n",
       "      <th>RepoName</th>\n",
       "      <th>RepoLanguage</th>\n",
       "      <th>Sha</th>\n",
       "      <th>Message</th>\n",
       "      <th>AuthorAt</th>\n",
       "      <th>CommitAt</th>\n",
       "      <th>ChatgptSharing</th>\n",
       "      <th>AI_Generated</th>\n",
       "    </tr>\n",
       "  </thead>\n",
       "  <tbody>\n",
       "    <tr>\n",
       "      <th>0</th>\n",
       "      <td>commit</td>\n",
       "      <td>https://github.com/p3ob7o/Speak/commit/01cec3e...</td>\n",
       "      <td>p3ob7o</td>\n",
       "      <td>p3ob7o/Speak</td>\n",
       "      <td>None</td>\n",
       "      <td>01cec3e3d17e26f703ce8bf7aa068d3f6b6364d3</td>\n",
       "      <td>Refactored entirely based on https://chat.open...</td>\n",
       "      <td>2023-07-06T11:20:49.000-05:00</td>\n",
       "      <td>2023-07-06T11:20:49.000-05:00</td>\n",
       "      <td>[{'URL': 'https://chat.openai.com/share/c89e04...</td>\n",
       "      <td>True</td>\n",
       "    </tr>\n",
       "    <tr>\n",
       "      <th>1</th>\n",
       "      <td>commit</td>\n",
       "      <td>https://github.com/OKinane/spotify-to-youtube-...</td>\n",
       "      <td>OKinane</td>\n",
       "      <td>OKinane/spotify-to-youtube-chrome-extension</td>\n",
       "      <td>JavaScript</td>\n",
       "      <td>cad80ca0a31be41ebb36ef2d2cc48e7e43485552</td>\n",
       "      <td>follow the first chatgpt answer\\n\\nhttps://cha...</td>\n",
       "      <td>2023-07-11T20:26:51.000+01:00</td>\n",
       "      <td>2023-07-11T20:26:51.000+01:00</td>\n",
       "      <td>[{'URL': 'https://chat.openai.com/share/0f8a3c...</td>\n",
       "      <td>True</td>\n",
       "    </tr>\n",
       "  </tbody>\n",
       "</table>\n",
       "</div>"
      ],
      "text/plain": [
       "     Type                                                URL   Author  \\\n",
       "0  commit  https://github.com/p3ob7o/Speak/commit/01cec3e...   p3ob7o   \n",
       "1  commit  https://github.com/OKinane/spotify-to-youtube-...  OKinane   \n",
       "\n",
       "                                      RepoName RepoLanguage  \\\n",
       "0                                 p3ob7o/Speak         None   \n",
       "1  OKinane/spotify-to-youtube-chrome-extension   JavaScript   \n",
       "\n",
       "                                        Sha  \\\n",
       "0  01cec3e3d17e26f703ce8bf7aa068d3f6b6364d3   \n",
       "1  cad80ca0a31be41ebb36ef2d2cc48e7e43485552   \n",
       "\n",
       "                                             Message  \\\n",
       "0  Refactored entirely based on https://chat.open...   \n",
       "1  follow the first chatgpt answer\\n\\nhttps://cha...   \n",
       "\n",
       "                        AuthorAt                       CommitAt  \\\n",
       "0  2023-07-06T11:20:49.000-05:00  2023-07-06T11:20:49.000-05:00   \n",
       "1  2023-07-11T20:26:51.000+01:00  2023-07-11T20:26:51.000+01:00   \n",
       "\n",
       "                                      ChatgptSharing  AI_Generated  \n",
       "0  [{'URL': 'https://chat.openai.com/share/c89e04...          True  \n",
       "1  [{'URL': 'https://chat.openai.com/share/0f8a3c...          True  "
      ]
     },
     "execution_count": 5,
     "metadata": {},
     "output_type": "execute_result"
    }
   ],
   "source": [
    "keywords = [\"chat.openai.com\", \"GPT\", \"AI-generated\"]\n",
    "\n",
    "commit_august_clean = commit_august_clean.copy()\n",
    "\n",
    "commit_august_clean.loc[:, \"AI_Generated\"] = commit_august_clean[\"Message\"].astype(str).apply(\n",
    "    lambda x: any(i in x for i in keywords)\n",
    ")\n",
    "\n",
    "commit_gpt_only = commit_august_clean.loc[commit_august_clean[\"AI_Generated\"] == True].copy()\n",
    "commit_gpt_only.head(2)"
   ]
  },
  {
   "cell_type": "code",
   "execution_count": 6,
   "id": "8125b7e6-1602-4b3d-9411-c81236ae0137",
   "metadata": {},
   "outputs": [],
   "source": [
    "pr_august_clean_explode = pr_august_clean.explode(\"Sha\")"
   ]
  },
  {
   "cell_type": "code",
   "execution_count": 7,
   "id": "0441a0d3-ba0d-4fd0-9814-b085e2b519cf",
   "metadata": {},
   "outputs": [],
   "source": [
    "commits_pr = commit_august_clean.merge(pr_august_clean_explode, on=\"Sha\", how=\"left\")"
   ]
  },
  {
   "cell_type": "code",
   "execution_count": 8,
   "id": "d4e071ae-7290-4d6b-82b7-8c1e05d2bd10",
   "metadata": {},
   "outputs": [
    {
     "data": {
      "text/plain": [
       "Index(['Type_x', 'URL_x', 'Author_x', 'RepoName_x', 'RepoLanguage_x', 'Sha',\n",
       "       'Message', 'AuthorAt', 'CommitAt', 'ChatgptSharing_x', 'AI_Generated',\n",
       "       'Type_y', 'URL_y', 'Author_y', 'RepoName_y', 'RepoLanguage_y', 'Number',\n",
       "       'Title', 'Body', 'CreatedAt', 'ClosedAt', 'MergedAt', 'UpdatedAt',\n",
       "       'State', 'Additions', 'Deletions', 'ChangedFiles', 'CommitsTotalCount',\n",
       "       'ChatgptSharing_y'],\n",
       "      dtype='object')"
      ]
     },
     "execution_count": 8,
     "metadata": {},
     "output_type": "execute_result"
    }
   ],
   "source": [
    "commits_pr.columns"
   ]
  },
  {
   "cell_type": "code",
   "execution_count": 9,
   "id": "a2c2ff49-8587-4182-bce8-d802c6140963",
   "metadata": {},
   "outputs": [],
   "source": [
    "commits_pr_clean = commits_pr.drop(columns=['Type_y', 'URL_y', 'Author_y', 'RepoName_y', 'RepoLanguage_y', 'ChatgptSharing_y'])"
   ]
  },
  {
   "cell_type": "code",
   "execution_count": 10,
   "id": "1d81a71e-b1e4-4df5-a66e-0d59ad6f17ec",
   "metadata": {},
   "outputs": [
    {
     "data": {
      "text/plain": [
       "45"
      ]
     },
     "execution_count": 10,
     "metadata": {},
     "output_type": "execute_result"
    }
   ],
   "source": [
    "commits_pr_clean.astype(str).duplicated().sum()"
   ]
  },
  {
   "cell_type": "code",
   "execution_count": 11,
   "id": "42232c74-5189-4da4-bfb3-8bd2782e3d2c",
   "metadata": {},
   "outputs": [],
   "source": [
    "processed_df = commits_pr_clean.astype(str).drop_duplicates()"
   ]
  },
  {
   "cell_type": "code",
   "execution_count": 12,
   "id": "0981635d-a32f-4fbc-b5cc-e91c983b9496",
   "metadata": {},
   "outputs": [
    {
     "data": {
      "text/plain": [
       "0"
      ]
     },
     "execution_count": 12,
     "metadata": {},
     "output_type": "execute_result"
    }
   ],
   "source": [
    "processed_df.astype(str).duplicated().sum()"
   ]
  },
  {
   "cell_type": "code",
   "execution_count": 13,
   "id": "3653c71a-db3f-4ced-b4fe-97a5bf961683",
   "metadata": {},
   "outputs": [],
   "source": [
    "processed_df.to_csv('processed_df.csv', index=False)"
   ]
  },
  {
   "cell_type": "markdown",
   "id": "30428756-db30-4192-a7d3-e1ba32dc11c2",
   "metadata": {},
   "source": [
    "## Analysis\n",
    "\n",
    "> How are AI-generated commits used in software development? Specifically, which programming language has the most AI-generated commits, what time of day are these commits made, how many make it to a pull request, and how long does it take for them to reach a PR?"
   ]
  },
  {
   "cell_type": "code",
   "execution_count": 14,
   "id": "4991e56f-ff43-4cb4-af60-ed04e24d8477",
   "metadata": {},
   "outputs": [],
   "source": [
    "df = pd.read_csv(\"processed_df.csv\")\n",
    "\n",
    "df[\"CommitAt\"] = pd.to_datetime(df[\"CommitAt\"], errors='coerce', utc=True)\n",
    "df[\"CreatedAt\"] = pd.to_datetime(df[\"CreatedAt\"], errors='coerce', utc=True)\n",
    "df[\"MergedAt\"] = pd.to_datetime(df[\"MergedAt\"], errors='coerce', utc=True)"
   ]
  },
  {
   "cell_type": "markdown",
   "id": "cf1d651e-50f6-4d1e-97ef-bcd3e4151cc3",
   "metadata": {},
   "source": [
    "> **Which programming language has the most AI-generated commits?**"
   ]
  },
  {
   "cell_type": "code",
   "execution_count": 15,
   "id": "a699b187-73a9-4986-aed8-19f71a753a4a",
   "metadata": {},
   "outputs": [
    {
     "data": {
      "image/png": "[encoded data removed]",
      "text/plain": [
       "<Figure size 800x400 with 1 Axes>"
      ]
     },
     "metadata": {},
     "output_type": "display_data"
    }
   ],
   "source": [
    "language_commit_counts = df[\"RepoLanguage_x\"].value_counts()\n",
    "plt.figure(figsize=(8, 4))\n",
    "language_commit_counts.head(5).plot(kind=\"bar\")\n",
    "plt.title(\"Top 5 Programming Languages with AI-generated Commits\")\n",
    "plt.xlabel(\"Programming Language\")\n",
    "plt.ylabel(\"Number of Commits\")\n",
    "plt.xticks(rotation=0)\n",
    "plt.grid(axis=\"y\")\n",
    "plt.show()"
   ]
  },
  {
   "cell_type": "markdown",
   "id": "d3174ca5-d9a0-439b-b446-5508d405709d",
   "metadata": {},
   "source": [
    "> **What time of day are these commits made?**"
   ]
  },
  {
   "cell_type": "code",
   "execution_count": 16,
   "id": "70cd2d08-9991-4b57-ac3b-223d692e36b7",
   "metadata": {},
   "outputs": [
    {
     "data": {
      "image/png": "[encoded data removed]",
      "text/plain": [
       "<Figure size 800x400 with 1 Axes>"
      ]
     },
     "metadata": {},
     "output_type": "display_data"
    }
   ],
   "source": [
    "df[\"HourOfCommit\"] = df[\"CommitAt\"].dt.hour\n",
    "time_of_day_counts = df[\"HourOfCommit\"].value_counts().sort_index()\n",
    "\n",
    "plt.figure(figsize=(8, 4))\n",
    "time_of_day_counts.plot(kind=\"bar\")\n",
    "plt.title(\"Commits by Hour of the Day\")\n",
    "plt.xlabel(\"Hour of the Day (UTC)\")\n",
    "plt.ylabel(\"Number of Commits\")\n",
    "plt.xticks(rotation=0)\n",
    "plt.grid(axis=\"y\")\n",
    "plt.show()"
   ]
  },
  {
   "cell_type": "markdown",
   "id": "2fd21807-b9c9-41af-b965-dea3535b0463",
   "metadata": {},
   "source": [
    "> **How many make it to a pull request?**"
   ]
  },
  {
   "cell_type": "code",
   "execution_count": 17,
   "id": "6b18c660-96ca-459c-98f9-e174dce6b858",
   "metadata": {},
   "outputs": [
    {
     "name": "stdout",
     "output_type": "stream",
     "text": [
      "11\n",
      "1392\n",
      "0.7902298850574714\n"
     ]
    }
   ],
   "source": [
    "commits_with_pr = df[\"State\"].notna().sum()\n",
    "total_commits = len(df)\n",
    "percentage_commits_to_pr = (commits_with_pr / total_commits) * 100\n",
    "print(commits_with_pr)\n",
    "print(total_commits)\n",
    "print(percentage_commits_to_pr)"
   ]
  },
  {
   "cell_type": "markdown",
   "id": "73dc9403-a0af-4861-8b32-b256bab9d721",
   "metadata": {},
   "source": [
    "> **How long does it take for them to reach a PR?**"
   ]
  },
  {
   "cell_type": "code",
   "execution_count": 18,
   "id": "a333ccdc-271b-4e07-9d0e-aca04423932e",
   "metadata": {},
   "outputs": [
    {
     "name": "stdout",
     "output_type": "stream",
     "text": [
      "8.1 Minutes\n"
     ]
    }
   ],
   "source": [
    "df[\"TimeToPR\"] = (df[\"CreatedAt\"] - df[\"CommitAt\"]).dt.total_seconds() / 60  # Convert seconds to hours\n",
    "avg_time_to_pr = abs(df[\"TimeToPR\"].mean())\n",
    "print(avg_time_to_pr, \"Minutes\")"
   ]
  }
 ],
 "metadata": {
  "kernelspec": {
   "display_name": "Python 3 (ipykernel)",
   "language": "python",
   "name": "python3"
  },
  "language_info": {
   "codemirror_mode": {
    "name": "ipython",
    "version": 3
   },
   "file_extension": ".py",
   "mimetype": "text/x-python",
   "name": "python",
   "nbconvert_exporter": "python",
   "pygments_lexer": "ipython3",
   "version": "3.12.2"
  }
 },
 "nbformat": 4,
 "nbformat_minor": 5
}
