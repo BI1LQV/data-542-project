{
 "cells": [
  {
   "cell_type": "code",
   "execution_count": 3,
   "id": "b70c0586-67c9-460f-b16c-eca67ac50977",
   "metadata": {},
   "outputs": [],
   "source": [
    "import pandas as pd\n",
    "from pandas import json_normalize\n",
    "import matplotlib.pyplot as plt\n",
    "\n",
    "#converted original json files to csv\n",
    "\n",
    "issue = pd.read_json(\"20230817_130502_issue_sharings.json\")\n",
    "issue_n = pd.json_normalize(issue['Sources'])\n",
    "\n",
    "issue_n.to_csv('issue.csv', index=False)"
   ]
  },
  {
   "cell_type": "code",
   "execution_count": 4,
   "id": "5805ae95-adab-4327-9498-44b541024d17",
   "metadata": {},
   "outputs": [
    {
     "data": {
      "text/html": [
       "<div>\n",
       "<style scoped>\n",
       "    .dataframe tbody tr th:only-of-type {\n",
       "        vertical-align: middle;\n",
       "    }\n",
       "\n",
       "    .dataframe tbody tr th {\n",
       "        vertical-align: top;\n",
       "    }\n",
       "\n",
       "    .dataframe thead th {\n",
       "        text-align: right;\n",
       "    }\n",
       "</style>\n",
       "<table border=\"1\" class=\"dataframe\">\n",
       "  <thead>\n",
       "    <tr style=\"text-align: right;\">\n",
       "      <th></th>\n",
       "      <th>Type</th>\n",
       "      <th>URL</th>\n",
       "      <th>Author</th>\n",
       "      <th>RepoName</th>\n",
       "      <th>RepoLanguage</th>\n",
       "      <th>Number</th>\n",
       "      <th>Title</th>\n",
       "      <th>Body</th>\n",
       "      <th>CreatedAt</th>\n",
       "      <th>ClosedAt</th>\n",
       "      <th>UpdatedAt</th>\n",
       "      <th>State</th>\n",
       "      <th>ChatgptSharing</th>\n",
       "    </tr>\n",
       "  </thead>\n",
       "  <tbody>\n",
       "    <tr>\n",
       "      <th>0</th>\n",
       "      <td>issue</td>\n",
       "      <td>https://github.com/gakusyutai/gakusyutai.githu...</td>\n",
       "      <td>yuyu31</td>\n",
       "      <td>gakusyutai/gakusyutai.github.io</td>\n",
       "      <td>HTML</td>\n",
       "      <td>31</td>\n",
       "      <td>ハンバーガーメニューの実装</td>\n",
       "      <td>- https://chat.openai.com/share/8b0f517f-1aaf-...</td>\n",
       "      <td>2023-07-23T15:38:42Z</td>\n",
       "      <td>NaN</td>\n",
       "      <td>2023-07-23T15:38:42Z</td>\n",
       "      <td>OPEN</td>\n",
       "      <td>[{'URL': 'https://chat.openai.com/share/8b0f51...</td>\n",
       "    </tr>\n",
       "    <tr>\n",
       "      <th>1</th>\n",
       "      <td>issue</td>\n",
       "      <td>https://github.com/jabrena/aqa-tests-experimen...</td>\n",
       "      <td>jabrena</td>\n",
       "      <td>jabrena/aqa-tests-experiments</td>\n",
       "      <td>Java</td>\n",
       "      <td>4</td>\n",
       "      <td>Run a test in multiple java distros</td>\n",
       "      <td>- https://chat.openai.com/share/e169e9a7-40c5-...</td>\n",
       "      <td>2023-07-07T20:30:07Z</td>\n",
       "      <td>NaN</td>\n",
       "      <td>2023-07-08T11:56:45Z</td>\n",
       "      <td>OPEN</td>\n",
       "      <td>[{'URL': 'https://chat.openai.com/share/e169e9...</td>\n",
       "    </tr>\n",
       "    <tr>\n",
       "      <th>2</th>\n",
       "      <td>issue</td>\n",
       "      <td>https://github.com/Bisllly/demo-oxford-diction...</td>\n",
       "      <td>Bisllly</td>\n",
       "      <td>Bisllly/demo-oxford-dictionary-test-rework</td>\n",
       "      <td>Java</td>\n",
       "      <td>1</td>\n",
       "      <td>GPT chat to install, build with Jenkins</td>\n",
       "      <td>https://chat.openai.com/share/6a76aba4-ea32-45...</td>\n",
       "      <td>2023-08-06T07:20:51Z</td>\n",
       "      <td>NaN</td>\n",
       "      <td>2023-08-06T07:20:51Z</td>\n",
       "      <td>OPEN</td>\n",
       "      <td>[{'URL': 'https://chat.openai.com/share/6a76ab...</td>\n",
       "    </tr>\n",
       "    <tr>\n",
       "      <th>3</th>\n",
       "      <td>issue</td>\n",
       "      <td>https://github.com/rane254/RPSAndroidGame/issu...</td>\n",
       "      <td>rane254</td>\n",
       "      <td>rane254/RPSAndroidGame</td>\n",
       "      <td>Java</td>\n",
       "      <td>1</td>\n",
       "      <td>New code</td>\n",
       "      <td>https://chat.openai.com/share/ec2f135e-6082-43...</td>\n",
       "      <td>2023-08-06T19:43:08Z</td>\n",
       "      <td>NaN</td>\n",
       "      <td>2023-08-06T19:43:08Z</td>\n",
       "      <td>OPEN</td>\n",
       "      <td>[{'URL': 'https://chat.openai.com/share/ec2f13...</td>\n",
       "    </tr>\n",
       "    <tr>\n",
       "      <th>4</th>\n",
       "      <td>issue</td>\n",
       "      <td>https://github.com/celestiaorg/knuu/issues/170</td>\n",
       "      <td>smuu</td>\n",
       "      <td>celestiaorg/knuu</td>\n",
       "      <td>Go</td>\n",
       "      <td>170</td>\n",
       "      <td>Create a wrapError function and rewrite all er...</td>\n",
       "      <td>https://chat.openai.com/share/58473a7b-5842-47...</td>\n",
       "      <td>2023-08-10T12:36:58Z</td>\n",
       "      <td>NaN</td>\n",
       "      <td>2023-08-10T12:36:58Z</td>\n",
       "      <td>OPEN</td>\n",
       "      <td>[{'URL': 'https://chat.openai.com/share/58473a...</td>\n",
       "    </tr>\n",
       "  </tbody>\n",
       "</table>\n",
       "</div>"
      ],
      "text/plain": [
       "    Type                                                URL   Author  \\\n",
       "0  issue  https://github.com/gakusyutai/gakusyutai.githu...   yuyu31   \n",
       "1  issue  https://github.com/jabrena/aqa-tests-experimen...  jabrena   \n",
       "2  issue  https://github.com/Bisllly/demo-oxford-diction...  Bisllly   \n",
       "3  issue  https://github.com/rane254/RPSAndroidGame/issu...  rane254   \n",
       "4  issue     https://github.com/celestiaorg/knuu/issues/170     smuu   \n",
       "\n",
       "                                     RepoName RepoLanguage  Number  \\\n",
       "0             gakusyutai/gakusyutai.github.io         HTML      31   \n",
       "1               jabrena/aqa-tests-experiments         Java       4   \n",
       "2  Bisllly/demo-oxford-dictionary-test-rework         Java       1   \n",
       "3                      rane254/RPSAndroidGame         Java       1   \n",
       "4                            celestiaorg/knuu           Go     170   \n",
       "\n",
       "                                               Title  \\\n",
       "0                                      ハンバーガーメニューの実装   \n",
       "1                Run a test in multiple java distros   \n",
       "2            GPT chat to install, build with Jenkins   \n",
       "3                                           New code   \n",
       "4  Create a wrapError function and rewrite all er...   \n",
       "\n",
       "                                                Body             CreatedAt  \\\n",
       "0  - https://chat.openai.com/share/8b0f517f-1aaf-...  2023-07-23T15:38:42Z   \n",
       "1  - https://chat.openai.com/share/e169e9a7-40c5-...  2023-07-07T20:30:07Z   \n",
       "2  https://chat.openai.com/share/6a76aba4-ea32-45...  2023-08-06T07:20:51Z   \n",
       "3  https://chat.openai.com/share/ec2f135e-6082-43...  2023-08-06T19:43:08Z   \n",
       "4  https://chat.openai.com/share/58473a7b-5842-47...  2023-08-10T12:36:58Z   \n",
       "\n",
       "  ClosedAt             UpdatedAt State  \\\n",
       "0      NaN  2023-07-23T15:38:42Z  OPEN   \n",
       "1      NaN  2023-07-08T11:56:45Z  OPEN   \n",
       "2      NaN  2023-08-06T07:20:51Z  OPEN   \n",
       "3      NaN  2023-08-06T19:43:08Z  OPEN   \n",
       "4      NaN  2023-08-10T12:36:58Z  OPEN   \n",
       "\n",
       "                                      ChatgptSharing  \n",
       "0  [{'URL': 'https://chat.openai.com/share/8b0f51...  \n",
       "1  [{'URL': 'https://chat.openai.com/share/e169e9...  \n",
       "2  [{'URL': 'https://chat.openai.com/share/6a76ab...  \n",
       "3  [{'URL': 'https://chat.openai.com/share/ec2f13...  \n",
       "4  [{'URL': 'https://chat.openai.com/share/58473a...  "
      ]
     },
     "execution_count": 4,
     "metadata": {},
     "output_type": "execute_result"
    }
   ],
   "source": [
    "#read the data\n",
    "df = pd.read_csv(\"issue.csv\")\n",
    "df.head()"
   ]
  },
  {
   "cell_type": "code",
   "execution_count": 3,
   "id": "0732781a-b30e-403b-9d8a-f85b51205c4d",
   "metadata": {},
   "outputs": [
    {
     "name": "stdout",
     "output_type": "stream",
     "text": [
      "<class 'pandas.core.frame.DataFrame'>\n",
      "RangeIndex: 303 entries, 0 to 302\n",
      "Data columns (total 13 columns):\n",
      " #   Column          Non-Null Count  Dtype \n",
      "---  ------          --------------  ----- \n",
      " 0   Type            303 non-null    object\n",
      " 1   URL             303 non-null    object\n",
      " 2   Author          303 non-null    object\n",
      " 3   RepoName        303 non-null    object\n",
      " 4   RepoLanguage    276 non-null    object\n",
      " 5   Number          303 non-null    int64 \n",
      " 6   Title           303 non-null    object\n",
      " 7   Body            292 non-null    object\n",
      " 8   CreatedAt       303 non-null    object\n",
      " 9   ClosedAt        138 non-null    object\n",
      " 10  UpdatedAt       303 non-null    object\n",
      " 11  State           303 non-null    object\n",
      " 12  ChatgptSharing  303 non-null    object\n",
      "dtypes: int64(1), object(12)\n",
      "memory usage: 30.9+ KB\n"
     ]
    }
   ],
   "source": [
    "df.info()"
   ]
  },
  {
   "cell_type": "code",
   "execution_count": 4,
   "id": "65a42555-8851-4922-8c25-75bb4a06f1a3",
   "metadata": {},
   "outputs": [
    {
     "name": "stdout",
     "output_type": "stream",
     "text": [
      "<class 'pandas.core.frame.DataFrame'>\n",
      "RangeIndex: 303 entries, 0 to 302\n",
      "Data columns (total 13 columns):\n",
      " #   Column          Non-Null Count  Dtype              \n",
      "---  ------          --------------  -----              \n",
      " 0   Type            303 non-null    object             \n",
      " 1   URL             303 non-null    object             \n",
      " 2   Author          303 non-null    object             \n",
      " 3   RepoName        303 non-null    object             \n",
      " 4   RepoLanguage    276 non-null    object             \n",
      " 5   Number          303 non-null    int64              \n",
      " 6   Title           303 non-null    object             \n",
      " 7   Body            292 non-null    object             \n",
      " 8   CreatedAt       303 non-null    datetime64[ns, UTC]\n",
      " 9   ClosedAt        138 non-null    datetime64[ns, UTC]\n",
      " 10  UpdatedAt       303 non-null    datetime64[ns, UTC]\n",
      " 11  State           303 non-null    object             \n",
      " 12  ChatgptSharing  303 non-null    object             \n",
      "dtypes: datetime64[ns, UTC](3), int64(1), object(9)\n",
      "memory usage: 30.9+ KB\n"
     ]
    }
   ],
   "source": [
    "#convert following columns to datetime\n",
    "\n",
    "df['CreatedAt'] = pd.to_datetime(df['CreatedAt'], errors='coerce')\n",
    "df['ClosedAt'] = pd.to_datetime(df['ClosedAt'], errors='coerce')\n",
    "df['UpdatedAt'] = pd.to_datetime(df['UpdatedAt'], errors='coerce')\n",
    "df.info()"
   ]
  },
  {
   "cell_type": "code",
   "execution_count": 5,
   "id": "d0996756-48c1-46fe-bda8-eb506e6845eb",
   "metadata": {},
   "outputs": [
    {
     "name": "stdout",
     "output_type": "stream",
     "text": [
      "0\n",
      "0\n"
     ]
    }
   ],
   "source": [
    "#confirm that there are no na values in the UpdatedAt and CreatedAt columns\n",
    "\n",
    "print(sum(df[\"UpdatedAt\"].isna()))\n",
    "print(sum(df[\"CreatedAt\"].isna()))"
   ]
  },
  {
   "cell_type": "code",
   "execution_count": 6,
   "id": "ef47e455-5ace-4bd1-b560-94cf3bc408ce",
   "metadata": {},
   "outputs": [],
   "source": [
    "#want to calculate: issue age, time between updates, and time from last update to now \n",
    "#will use these as features for our model"
   ]
  },
  {
   "cell_type": "code",
   "execution_count": 7,
   "id": "05597437-7eec-46e4-a0bc-13451486963f",
   "metadata": {},
   "outputs": [],
   "source": [
    "#need to make below columns timezone naive\n",
    "date_today = pd.to_datetime('now')\n",
    "df['CreatedAt'] = df['CreatedAt'].dt.tz_localize(None)\n",
    "df['ClosedAt'] = df['ClosedAt'].dt.tz_localize(None)\n",
    "df['UpdatedAt'] = df['UpdatedAt'].dt.tz_localize(None)"
   ]
  },
  {
   "cell_type": "code",
   "execution_count": 8,
   "id": "36743e36-b540-4c89-9217-ba3bbb7f975d",
   "metadata": {},
   "outputs": [],
   "source": [
    "#calculate values (in days) and create new columns\n",
    "df['IssueAge'] = (date_today - df['CreatedAt']).dt.days \n",
    "df['TimeBetween'] = (df['UpdatedAt'] - df['CreatedAt']).dt.days\n",
    "df['TimeFromLastUpdate'] = (date_today - df['UpdatedAt']).dt.days\n",
    "df['Resolved'] = df['State'].apply(lambda x: 1 if x == 'CLOSED' else 0)"
   ]
  },
  {
   "cell_type": "code",
   "execution_count": 9,
   "id": "7d919714-dbf9-45da-8bab-e631cc2df6bd",
   "metadata": {},
   "outputs": [
    {
     "name": "stdout",
     "output_type": "stream",
     "text": [
      "<class 'pandas.core.frame.DataFrame'>\n",
      "RangeIndex: 303 entries, 0 to 302\n",
      "Data columns (total 17 columns):\n",
      " #   Column              Non-Null Count  Dtype         \n",
      "---  ------              --------------  -----         \n",
      " 0   Type                303 non-null    object        \n",
      " 1   URL                 303 non-null    object        \n",
      " 2   Author              303 non-null    object        \n",
      " 3   RepoName            303 non-null    object        \n",
      " 4   RepoLanguage        276 non-null    object        \n",
      " 5   Number              303 non-null    int64         \n",
      " 6   Title               303 non-null    object        \n",
      " 7   Body                292 non-null    object        \n",
      " 8   CreatedAt           303 non-null    datetime64[ns]\n",
      " 9   ClosedAt            138 non-null    datetime64[ns]\n",
      " 10  UpdatedAt           303 non-null    datetime64[ns]\n",
      " 11  State               303 non-null    object        \n",
      " 12  ChatgptSharing      303 non-null    object        \n",
      " 13  IssueAge            303 non-null    int64         \n",
      " 14  TimeBetween         303 non-null    int64         \n",
      " 15  TimeFromLastUpdate  303 non-null    int64         \n",
      " 16  Resolved            303 non-null    int64         \n",
      "dtypes: datetime64[ns](3), int64(5), object(9)\n",
      "memory usage: 40.4+ KB\n"
     ]
    }
   ],
   "source": [
    "df.info()"
   ]
  },
  {
   "cell_type": "code",
   "execution_count": 13,
   "id": "779a2793-f1a2-4f30-9a24-d2b10f7104bc",
   "metadata": {},
   "outputs": [
    {
     "name": "stdout",
     "output_type": "stream",
     "text": [
      "Accuracy: 0.51\n"
     ]
    }
   ],
   "source": [
    "#will use new features for our model\n",
    "X = df[['IssueAge', 'TimeBetween', 'TimeFromLastUpdate']]  \n",
    "y = df['Resolved']  #target variable (whether issue is resolved or not)\n",
    "\n",
    "#split data\n",
    "from sklearn.model_selection import train_test_split\n",
    "X_train, X_test, y_train, y_test = train_test_split(X, y, test_size=0.3, random_state=42)\n",
    "\n",
    "# train the model\n",
    "from sklearn.linear_model import LogisticRegression\n",
    "from sklearn.metrics import accuracy_score\n",
    "\n",
    "model = LogisticRegression(max_iter=1000)\n",
    "model.fit(X_train, y_train)\n",
    "\n",
    "#make predictions on the test set\n",
    "y_pred = model.predict(X_test)\n",
    "\n",
    "#evaluate the model\n",
    "accuracy = accuracy_score(y_test, y_pred)\n",
    "print(f\"Accuracy: {accuracy:.2f}\")\n"
   ]
  },
  {
   "cell_type": "code",
   "execution_count": 14,
   "id": "28003cec-da78-4b7f-a915-a947aaacc6a7",
   "metadata": {},
   "outputs": [],
   "source": [
    "#can see model doesn't perform very well\n",
    "#can try removing one of the features"
   ]
  },
  {
   "cell_type": "code",
   "execution_count": 15,
   "id": "aad5dfd2-709b-45c9-a06e-a4f8536455a3",
   "metadata": {},
   "outputs": [
    {
     "name": "stdout",
     "output_type": "stream",
     "text": [
      "Accuracy: 0.53\n"
     ]
    }
   ],
   "source": [
    "#took out TimeBetween\n",
    "X = df[['IssueAge','TimeFromLastUpdate']]  \n",
    "y = df['Resolved']  \n",
    "\n",
    "X_train, X_test, y_train, y_test = train_test_split(X, y, test_size=0.3, random_state=42)\n",
    "\n",
    "from sklearn.linear_model import LogisticRegression\n",
    "from sklearn.metrics import accuracy_score\n",
    "\n",
    "model = LogisticRegression(max_iter=1000)\n",
    "model.fit(X_train, y_train)\n",
    "\n",
    "y_pred = model.predict(X_test)\n",
    "\n",
    "accuracy = accuracy_score(y_test, y_pred)\n",
    "print(f\"Accuracy: {accuracy:.2f}\")"
   ]
  },
  {
   "cell_type": "code",
   "execution_count": 16,
   "id": "facaf883-9075-4555-a28b-7b11e4334e9e",
   "metadata": {},
   "outputs": [],
   "source": [
    "#model performs about the same. maybe need to try another model"
   ]
  },
  {
   "cell_type": "code",
   "execution_count": 17,
   "id": "8150681a-557e-40b2-9541-017c34ac7244",
   "metadata": {},
   "outputs": [
    {
     "name": "stdout",
     "output_type": "stream",
     "text": [
      "Random Forest Accuracy: 0.66\n"
     ]
    }
   ],
   "source": [
    "#will try random forest \n",
    "X = df[['IssueAge', 'TimeBetween', 'TimeFromLastUpdate']]  \n",
    "y = df['Resolved']\n",
    "\n",
    "X_train, X_test, y_train, y_test = train_test_split(X, y, test_size=0.3, random_state=42)\n",
    "\n",
    "from sklearn.ensemble import RandomForestClassifier\n",
    "\n",
    "model_rf = RandomForestClassifier(n_estimators=100, random_state=42)\n",
    "model_rf.fit(X_train, y_train)\n",
    "y_pred_rf = model_rf.predict(X_test)\n",
    "accuracy_rf = accuracy_score(y_test, y_pred_rf)\n",
    "print(f\"Random Forest Accuracy: {accuracy_rf:.2f}\")\n"
   ]
  },
  {
   "cell_type": "code",
   "execution_count": 18,
   "id": "a4901be0-292d-46c9-bff4-d63039a2f5fd",
   "metadata": {},
   "outputs": [],
   "source": [
    "#some improvement! let's try scaling the features as the ranges vary a lot"
   ]
  },
  {
   "cell_type": "code",
   "execution_count": 19,
   "id": "c9ac1f1c-e067-43f0-9774-bd616775ca43",
   "metadata": {},
   "outputs": [
    {
     "name": "stdout",
     "output_type": "stream",
     "text": [
      "Random Forest Accuracy: 0.66\n"
     ]
    }
   ],
   "source": [
    "from sklearn.preprocessing import StandardScaler\n",
    "\n",
    "#scale the training and test data\n",
    "scaler = StandardScaler()\n",
    "X_train_scaled = scaler.fit_transform(X_train)  \n",
    "X_test_scaled = scaler.transform(X_test)  \n",
    "\n",
    "model_rf = RandomForestClassifier(n_estimators=100, random_state=42)\n",
    "model_rf.fit(X_train_scaled, y_train)\n",
    "\n",
    "y_pred_rf = model_rf.predict(X_test_scaled)\n",
    "\n",
    "accuracy_rf = accuracy_score(y_test, y_pred_rf)\n",
    "print(f\"Random Forest Accuracy: {accuracy_rf:.2f}\")\n"
   ]
  },
  {
   "cell_type": "code",
   "execution_count": 20,
   "id": "23a44309-b7f2-4bb4-87f3-c9681ca5eec8",
   "metadata": {},
   "outputs": [],
   "source": [
    "#no difference with scaling features"
   ]
  },
  {
   "cell_type": "code",
   "execution_count": 21,
   "id": "dfaafd70-5e5a-4457-93a0-d4788b59ba66",
   "metadata": {},
   "outputs": [
    {
     "name": "stdout",
     "output_type": "stream",
     "text": [
      "Confusion Matrix:\n",
      "[[34 19]\n",
      " [12 26]]\n"
     ]
    },
    {
     "data": {
      "image/png": "[encoded data removed]",
      "text/plain": [
       "<Figure size 640x480 with 2 Axes>"
      ]
     },
     "metadata": {},
     "output_type": "display_data"
    }
   ],
   "source": [
    "from sklearn.metrics import confusion_matrix, ConfusionMatrixDisplay, accuracy_score\n",
    "import matplotlib.pyplot as plt\n",
    "\n",
    "cm = confusion_matrix(y_test, y_pred_rf)\n",
    "\n",
    "# Print confusion matrix\n",
    "print(\"Confusion Matrix:\")\n",
    "print(cm)\n",
    "\n",
    "# Visualize the confusion matrix\n",
    "cm_display = ConfusionMatrixDisplay(confusion_matrix=cm, display_labels=model_rf.classes_)\n",
    "cm_display.plot(cmap=plt.cm.Blues)\n",
    "plt.title(\"Confusion Matrix for Random Forest Classifier\")\n",
    "plt.show()"
   ]
  },
  {
   "cell_type": "code",
   "execution_count": 22,
   "id": "238e27dd-3ac6-425e-b26d-4adb01cc79d3",
   "metadata": {},
   "outputs": [
    {
     "data": {
      "text/plain": [
       "array([0.36910384, 0.28649414, 0.34440202])"
      ]
     },
     "execution_count": 22,
     "metadata": {},
     "output_type": "execute_result"
    }
   ],
   "source": [
    "importances = model_rf.feature_importances_\n",
    "importances"
   ]
  },
  {
   "cell_type": "code",
   "execution_count": 23,
   "id": "94def7a6-0858-4b65-96f0-5d594a56b456",
   "metadata": {},
   "outputs": [
    {
     "name": "stdout",
     "output_type": "stream",
     "text": [
      "Cross-validated accuracy: 0.67\n"
     ]
    }
   ],
   "source": [
    "from sklearn.model_selection import cross_val_score\n",
    "\n",
    "cv_scores = cross_val_score(model_rf, X_train, y_train, cv=5, scoring='accuracy')\n",
    "print(f\"Cross-validated accuracy: {cv_scores.mean():.2f}\")"
   ]
  },
  {
   "cell_type": "code",
   "execution_count": 24,
   "id": "cce4e500-6f46-440b-8f32-d9db574d16d9",
   "metadata": {},
   "outputs": [],
   "source": [
    "#slight improvement with cross validated accuracy score\n",
    "#let's try another hyperparameter tuning method"
   ]
  },
  {
   "cell_type": "code",
   "execution_count": 25,
   "id": "57c04a0d-4167-434f-8fdc-78ce98c45e4c",
   "metadata": {},
   "outputs": [
    {
     "name": "stdout",
     "output_type": "stream",
     "text": [
      "Best Parameters: {'max_depth': 20, 'min_samples_split': 10, 'n_estimators': 100}\n",
      "Best Accuracy: 0.72\n"
     ]
    }
   ],
   "source": [
    "from sklearn.model_selection import GridSearchCV\n",
    "\n",
    "param_grid = {\n",
    "    'n_estimators': [100, 200, 300],\n",
    "    'max_depth': [None, 10, 20, 30],\n",
    "    'min_samples_split': [2, 5, 10]\n",
    "}\n",
    "\n",
    "#grid search\n",
    "grid_search = GridSearchCV(estimator=RandomForestClassifier(), param_grid=param_grid, cv=5, scoring='accuracy')\n",
    "grid_search.fit(X_train, y_train)\n",
    "\n",
    "#best hyperparameters to use\n",
    "print(f\"Best Parameters: {grid_search.best_params_}\")\n",
    "print(f\"Best Accuracy: {grid_search.best_score_:.2f}\")\n"
   ]
  },
  {
   "cell_type": "code",
   "execution_count": 26,
   "id": "598bdae7-daf5-465f-ba15-7f5b265c35b0",
   "metadata": {},
   "outputs": [],
   "source": [
    "#the model will perform the best with the above parameters\n",
    "#now let's test it and fit the model to the test set"
   ]
  },
  {
   "cell_type": "code",
   "execution_count": 29,
   "id": "0d718a33-a856-4c55-be07-e28affcc3ed0",
   "metadata": {},
   "outputs": [
    {
     "name": "stdout",
     "output_type": "stream",
     "text": [
      "Test Accuracy: 0.65\n"
     ]
    }
   ],
   "source": [
    "y_pred = grid_search.predict(X_test)\n",
    "\n",
    "accuracy = accuracy_score(y_test, y_pred)\n",
    "print(f\"Test Accuracy: {accuracy:.2f}\")"
   ]
  },
  {
   "cell_type": "code",
   "execution_count": null,
   "id": "aa1a65e8-5296-4bbc-9f4e-1d2c7c775cd8",
   "metadata": {},
   "outputs": [],
   "source": [
    "#model doesn't perform better on test data"
   ]
  }
 ],
 "metadata": {
  "kernelspec": {
   "display_name": "Python 3 (ipykernel)",
   "language": "python",
   "name": "python3"
  },
  "language_info": {
   "codemirror_mode": {
    "name": "ipython",
    "version": 3
   },
   "file_extension": ".py",
   "mimetype": "text/x-python",
   "name": "python",
   "nbconvert_exporter": "python",
   "pygments_lexer": "ipython3",
   "version": "3.12.2"
  }
 },
 "nbformat": 4,
 "nbformat_minor": 5
}
